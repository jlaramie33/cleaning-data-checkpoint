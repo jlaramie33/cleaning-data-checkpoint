{
  "metadata": {
    "kernelspec": {
      "name": "python",
      "display_name": "Python (Pyodide)",
      "language": "python"
    },
    "language_info": {
      "codemirror_mode": {
        "name": "python",
        "version": 3
      },
      "file_extension": ".py",
      "mimetype": "text/x-python",
      "name": "python",
      "nbconvert_exporter": "python",
      "pygments_lexer": "ipython3",
      "version": "3.8"
    }
  },
  "nbformat_minor": 4,
  "nbformat": 4,
  "cells": [
    {
      "cell_type": "markdown",
      "source": "# Checkpoint Three: Cleaning Data\n\nNow you are ready to clean your data. Before starting coding, provide the link to your dataset below.\n\nMy dataset:\n\nImport the necessary libraries and create your dataframe(s).",
      "metadata": {
        "azdata_cell_guid": "26037d32-2047-4157-81ef-595916bd66a0"
      }
    },
    {
      "cell_type": "code",
      "source": "import pandas as pd\nimport matplotlib.pyplot as plt\nimport numpy as np\n\ndf= pd.read_csv(\"Scorecard-Elements1.csv\")\n\n\nprint(df.info())",
      "metadata": {
        "azdata_cell_guid": "e8adef8e-d0f2-4640-a179-5997f11e82ca",
        "trusted": true
      },
      "execution_count": 41,
      "outputs": [
        {
          "name": "stdout",
          "text": "<class 'pandas.core.frame.DataFrame'>\nRangeIndex: 7703 entries, 0 to 7702\nData columns (total 17 columns):\n #   Column                  Non-Null Count  Dtype  \n---  ------                  --------------  -----  \n 0   INSTNM                  7703 non-null   object \n 1   CITY                    7703 non-null   object \n 2   STABBR                  7703 non-null   object \n 3   UGDS                    6990 non-null   float64\n 4   UGDS_WHITE              6990 non-null   float64\n 5   UGDS_BLACK              6990 non-null   float64\n 6   UGDS_HISP               6990 non-null   float64\n 7   UGDS_ASIAN              6990 non-null   float64\n 8   UGDS_AIAN               6990 non-null   float64\n 9   UGDS_NHPI               6990 non-null   float64\n 10  UGDS_2MOR               6990 non-null   float64\n 11  UGDS_NRA                6990 non-null   float64\n 12  UGDS_UNKN               6990 non-null   float64\n 13  MD_EARN_WNE_P10         5693 non-null   float64\n 14  GRAD_DEBT_MDN_SUPP      6126 non-null   float64\n 15  GRAD_DEBT_MDN10YR_SUPP  6126 non-null   float64\n 16  RPY_3YR_RT_SUPP         6228 non-null   float64\ndtypes: float64(14), object(3)\nmemory usage: 932.9+ KB\nNone\n",
          "output_type": "stream"
        }
      ]
    },
    {
      "cell_type": "markdown",
      "source": "## Missing Data\n\nTest your dataset for missing data and handle it as needed. Make notes in the form of code comments as to your thought process.",
      "metadata": {
        "azdata_cell_guid": "e172475a-c4ee-414a-8367-9965355dbba6"
      }
    },
    {
      "cell_type": "code",
      "source": "for col in df.columns:\n    pct_missing = np.mean(df[col].isnull())\n    print('{} - {}%'.format(col, round(pct_missing*100)))\n\n# There is a lot of missing data, which I could visibly see from the documents. None of the schools basic information is missing\n# The columns with large numbers of missing data \n#I only want to review the first 7 columns-- these columns identify the University and 2 additional columns: \n#GRAD_DEBT_MDN_SUPP - 0% (no missing missing information)\n#GRAD_DEBT_MDN10YR_SUPP - 0 (no missing information)",
      "metadata": {
        "azdata_cell_guid": "e1dc66ef-e471-4c27-92e7-ee878c106eba",
        "trusted": true
      },
      "execution_count": 42,
      "outputs": [
        {
          "name": "stdout",
          "text": "INSTNM - 0%\nCITY - 0%\nSTABBR - 0%\nUGDS - 9%\nUGDS_WHITE - 9%\nUGDS_BLACK - 9%\nUGDS_HISP - 9%\nUGDS_ASIAN - 9%\nUGDS_AIAN - 9%\nUGDS_NHPI - 9%\nUGDS_2MOR - 9%\nUGDS_NRA - 9%\nUGDS_UNKN - 9%\nMD_EARN_WNE_P10 - 26%\nGRAD_DEBT_MDN_SUPP - 20%\nGRAD_DEBT_MDN10YR_SUPP - 20%\nRPY_3YR_RT_SUPP - 19%\n",
          "output_type": "stream"
        }
      ]
    },
    {
      "cell_type": "code",
      "source": "df.isna().sum()",
      "metadata": {
        "trusted": true
      },
      "execution_count": 43,
      "outputs": [
        {
          "execution_count": 43,
          "output_type": "execute_result",
          "data": {
            "text/plain": "INSTNM                       0\nCITY                         0\nSTABBR                       0\nUGDS                       713\nUGDS_WHITE                 713\nUGDS_BLACK                 713\nUGDS_HISP                  713\nUGDS_ASIAN                 713\nUGDS_AIAN                  713\nUGDS_NHPI                  713\nUGDS_2MOR                  713\nUGDS_NRA                   713\nUGDS_UNKN                  713\nMD_EARN_WNE_P10           2010\nGRAD_DEBT_MDN_SUPP        1577\nGRAD_DEBT_MDN10YR_SUPP    1577\nRPY_3YR_RT_SUPP           1475\ndtype: int64"
          },
          "metadata": {}
        }
      ]
    },
    {
      "cell_type": "code",
      "source": "clean_df = df.dropna(subset=[\"UGDS\", \"MD_EARN_WNE_P10\", \"GRAD_DEBT_MDN_SUPP\"])",
      "metadata": {
        "trusted": true
      },
      "execution_count": 45,
      "outputs": []
    },
    {
      "cell_type": "code",
      "source": "clean_df.isna().sum()",
      "metadata": {
        "trusted": true
      },
      "execution_count": 44,
      "outputs": [
        {
          "execution_count": 44,
          "output_type": "execute_result",
          "data": {
            "text/plain": "INSTNM                      0\nCITY                        0\nSTABBR                      0\nUGDS                        0\nUGDS_WHITE                  0\nUGDS_BLACK                  0\nUGDS_HISP                   0\nUGDS_ASIAN                  0\nUGDS_AIAN                   0\nUGDS_NHPI                   0\nUGDS_2MOR                   0\nUGDS_NRA                    0\nUGDS_UNKN                   0\nMD_EARN_WNE_P10             0\nGRAD_DEBT_MDN_SUPP          0\nGRAD_DEBT_MDN10YR_SUPP      0\nRPY_3YR_RT_SUPP           482\ndtype: int64"
          },
          "metadata": {}
        }
      ]
    },
    {
      "cell_type": "markdown",
      "source": "## Irregular Data\n\nDetect outliers in your dataset and handle them as needed. Use code comments to make notes about your thought process.",
      "metadata": {
        "azdata_cell_guid": "1233f543-e9a0-4f78-96f5-d7536554102e"
      }
    },
    {
      "cell_type": "code",
      "source": "#find the datatype of each outlier to determine how to handle it\n#The list of dataypes will be the already condensed list of rows and columns to make this section more manageable\ndf.dtypes",
      "metadata": {
        "azdata_cell_guid": "efed50ae-16f0-471d-98e2-632553a74c12",
        "trusted": true
      },
      "execution_count": 4,
      "outputs": [
        {
          "execution_count": 4,
          "output_type": "execute_result",
          "data": {
            "text/plain": "INSTNM                     object\nCITY                       object\nSTABBR                     object\nUGDS                      float64\nUGDS_WHITE                float64\nUGDS_BLACK                float64\nUGDS_HISP                 float64\nUGDS_ASIAN                float64\nUGDS_AIAN                 float64\nUGDS_NHPI                 float64\nUGDS_2MOR                 float64\nUGDS_NRA                  float64\nUGDS_UNKN                 float64\nMD_EARN_WNE_P10            object\nGRAD_DEBT_MDN_SUPP         object\nGRAD_DEBT_MDN10YR_SUPP     object\nRPY_3YR_RT_SUPP            object\ndtype: object"
          },
          "metadata": {}
        }
      ]
    },
    {
      "cell_type": "code",
      "source": "df_clean = clean_df.drop(columns=['RPY_3YR_RT_SUPP', 'GRAD_DEBT_MDN10YR_SUPP'],axis=1)",
      "metadata": {
        "trusted": true
      },
      "execution_count": 46,
      "outputs": []
    },
    {
      "cell_type": "code",
      "source": "#The first 7 columns listed above are the University's identifiers like city, state, University name, etc.\n#OPEID, OPEID6, UNITID I kept as indentifiers, so if there data is missing, it isn't really relavant\n#I want to look at the head now that my list is condensed\ndf_clean.head(10)",
      "metadata": {
        "trusted": true
      },
      "execution_count": 47,
      "outputs": [
        {
          "execution_count": 47,
          "output_type": "execute_result",
          "data": {
            "text/plain": "                                INSTNM            CITY STABBR     UGDS  \\\n0             Alabama A & M University          Normal     AL   4206.0   \n1  University of Alabama at Birmingham      Birmingham     AL  11383.0   \n2                   Amridge University      Montgomery     AL    291.0   \n3  University of Alabama in Huntsville      Huntsville     AL   5451.0   \n4             Alabama State University      Montgomery     AL   4811.0   \n5            The University of Alabama      Tuscaloosa     AL  29851.0   \n6    Central Alabama Community College  Alexander City     AL   1592.0   \n7              Athens State University          Athens     AL   2991.0   \n8      Auburn University at Montgomery      Montgomery     AL   4304.0   \n9                    Auburn University          Auburn     AL  20514.0   \n\n   UGDS_WHITE  UGDS_BLACK  UGDS_HISP  UGDS_ASIAN  UGDS_AIAN  UGDS_NHPI  \\\n0      0.0333      0.9353     0.0055      0.0019     0.0024     0.0019   \n1      0.5922      0.2600     0.0283      0.0518     0.0022     0.0007   \n2      0.2990      0.4192     0.0069      0.0034     0.0000     0.0000   \n3      0.6988      0.1255     0.0382      0.0376     0.0143     0.0002   \n4      0.0158      0.9208     0.0121      0.0019     0.0010     0.0006   \n5      0.7825      0.1119     0.0348      0.0106     0.0038     0.0009   \n6      0.7255      0.2613     0.0044      0.0025     0.0044     0.0000   \n7      0.7823      0.1200     0.0191      0.0053     0.0157     0.0010   \n8      0.5328      0.3376     0.0074      0.0221     0.0044     0.0016   \n9      0.8507      0.0704     0.0248      0.0227     0.0074     0.0000   \n\n   UGDS_2MOR  UGDS_NRA  UGDS_UNKN  MD_EARN_WNE_P10  GRAD_DEBT_MDN_SUPP  \n0     0.0000    0.0059     0.0138          30300.0             33888.0  \n1     0.0368    0.0179     0.0100          39700.0             21941.5  \n2     0.0000    0.0000     0.2715          40100.0             23370.0  \n3     0.0172    0.0332     0.0350          45500.0             24097.0  \n4     0.0098    0.0243     0.0137          26600.0             33118.5  \n5     0.0261    0.0268     0.0026          41900.0             23750.0  \n6     0.0000    0.0000     0.0019          27500.0             16127.0  \n7     0.0174    0.0057     0.0334          39000.0             18595.0  \n8     0.0297    0.0397     0.0246          35000.0             21335.0  \n9     0.0000    0.0100     0.0140          45700.0             21831.0  ",
            "text/html": "<div>\n<style scoped>\n    .dataframe tbody tr th:only-of-type {\n        vertical-align: middle;\n    }\n\n    .dataframe tbody tr th {\n        vertical-align: top;\n    }\n\n    .dataframe thead th {\n        text-align: right;\n    }\n</style>\n<table border=\"1\" class=\"dataframe\">\n  <thead>\n    <tr style=\"text-align: right;\">\n      <th></th>\n      <th>INSTNM</th>\n      <th>CITY</th>\n      <th>STABBR</th>\n      <th>UGDS</th>\n      <th>UGDS_WHITE</th>\n      <th>UGDS_BLACK</th>\n      <th>UGDS_HISP</th>\n      <th>UGDS_ASIAN</th>\n      <th>UGDS_AIAN</th>\n      <th>UGDS_NHPI</th>\n      <th>UGDS_2MOR</th>\n      <th>UGDS_NRA</th>\n      <th>UGDS_UNKN</th>\n      <th>MD_EARN_WNE_P10</th>\n      <th>GRAD_DEBT_MDN_SUPP</th>\n    </tr>\n  </thead>\n  <tbody>\n    <tr>\n      <th>0</th>\n      <td>Alabama A &amp; M University</td>\n      <td>Normal</td>\n      <td>AL</td>\n      <td>4206.0</td>\n      <td>0.0333</td>\n      <td>0.9353</td>\n      <td>0.0055</td>\n      <td>0.0019</td>\n      <td>0.0024</td>\n      <td>0.0019</td>\n      <td>0.0000</td>\n      <td>0.0059</td>\n      <td>0.0138</td>\n      <td>30300.0</td>\n      <td>33888.0</td>\n    </tr>\n    <tr>\n      <th>1</th>\n      <td>University of Alabama at Birmingham</td>\n      <td>Birmingham</td>\n      <td>AL</td>\n      <td>11383.0</td>\n      <td>0.5922</td>\n      <td>0.2600</td>\n      <td>0.0283</td>\n      <td>0.0518</td>\n      <td>0.0022</td>\n      <td>0.0007</td>\n      <td>0.0368</td>\n      <td>0.0179</td>\n      <td>0.0100</td>\n      <td>39700.0</td>\n      <td>21941.5</td>\n    </tr>\n    <tr>\n      <th>2</th>\n      <td>Amridge University</td>\n      <td>Montgomery</td>\n      <td>AL</td>\n      <td>291.0</td>\n      <td>0.2990</td>\n      <td>0.4192</td>\n      <td>0.0069</td>\n      <td>0.0034</td>\n      <td>0.0000</td>\n      <td>0.0000</td>\n      <td>0.0000</td>\n      <td>0.0000</td>\n      <td>0.2715</td>\n      <td>40100.0</td>\n      <td>23370.0</td>\n    </tr>\n    <tr>\n      <th>3</th>\n      <td>University of Alabama in Huntsville</td>\n      <td>Huntsville</td>\n      <td>AL</td>\n      <td>5451.0</td>\n      <td>0.6988</td>\n      <td>0.1255</td>\n      <td>0.0382</td>\n      <td>0.0376</td>\n      <td>0.0143</td>\n      <td>0.0002</td>\n      <td>0.0172</td>\n      <td>0.0332</td>\n      <td>0.0350</td>\n      <td>45500.0</td>\n      <td>24097.0</td>\n    </tr>\n    <tr>\n      <th>4</th>\n      <td>Alabama State University</td>\n      <td>Montgomery</td>\n      <td>AL</td>\n      <td>4811.0</td>\n      <td>0.0158</td>\n      <td>0.9208</td>\n      <td>0.0121</td>\n      <td>0.0019</td>\n      <td>0.0010</td>\n      <td>0.0006</td>\n      <td>0.0098</td>\n      <td>0.0243</td>\n      <td>0.0137</td>\n      <td>26600.0</td>\n      <td>33118.5</td>\n    </tr>\n    <tr>\n      <th>5</th>\n      <td>The University of Alabama</td>\n      <td>Tuscaloosa</td>\n      <td>AL</td>\n      <td>29851.0</td>\n      <td>0.7825</td>\n      <td>0.1119</td>\n      <td>0.0348</td>\n      <td>0.0106</td>\n      <td>0.0038</td>\n      <td>0.0009</td>\n      <td>0.0261</td>\n      <td>0.0268</td>\n      <td>0.0026</td>\n      <td>41900.0</td>\n      <td>23750.0</td>\n    </tr>\n    <tr>\n      <th>6</th>\n      <td>Central Alabama Community College</td>\n      <td>Alexander City</td>\n      <td>AL</td>\n      <td>1592.0</td>\n      <td>0.7255</td>\n      <td>0.2613</td>\n      <td>0.0044</td>\n      <td>0.0025</td>\n      <td>0.0044</td>\n      <td>0.0000</td>\n      <td>0.0000</td>\n      <td>0.0000</td>\n      <td>0.0019</td>\n      <td>27500.0</td>\n      <td>16127.0</td>\n    </tr>\n    <tr>\n      <th>7</th>\n      <td>Athens State University</td>\n      <td>Athens</td>\n      <td>AL</td>\n      <td>2991.0</td>\n      <td>0.7823</td>\n      <td>0.1200</td>\n      <td>0.0191</td>\n      <td>0.0053</td>\n      <td>0.0157</td>\n      <td>0.0010</td>\n      <td>0.0174</td>\n      <td>0.0057</td>\n      <td>0.0334</td>\n      <td>39000.0</td>\n      <td>18595.0</td>\n    </tr>\n    <tr>\n      <th>8</th>\n      <td>Auburn University at Montgomery</td>\n      <td>Montgomery</td>\n      <td>AL</td>\n      <td>4304.0</td>\n      <td>0.5328</td>\n      <td>0.3376</td>\n      <td>0.0074</td>\n      <td>0.0221</td>\n      <td>0.0044</td>\n      <td>0.0016</td>\n      <td>0.0297</td>\n      <td>0.0397</td>\n      <td>0.0246</td>\n      <td>35000.0</td>\n      <td>21335.0</td>\n    </tr>\n    <tr>\n      <th>9</th>\n      <td>Auburn University</td>\n      <td>Auburn</td>\n      <td>AL</td>\n      <td>20514.0</td>\n      <td>0.8507</td>\n      <td>0.0704</td>\n      <td>0.0248</td>\n      <td>0.0227</td>\n      <td>0.0074</td>\n      <td>0.0000</td>\n      <td>0.0000</td>\n      <td>0.0100</td>\n      <td>0.0140</td>\n      <td>45700.0</td>\n      <td>21831.0</td>\n    </tr>\n  </tbody>\n</table>\n</div>"
          },
          "metadata": {}
        }
      ]
    },
    {
      "cell_type": "code",
      "source": "#Checking to see if there is any unique values in both Grad_debt columns\ncolumns = [['GRAD_DEBT_MDN_SUPP']]\nfor c in columns:\n    print(df_clean[c].nunique())",
      "metadata": {
        "trusted": true
      },
      "execution_count": 54,
      "outputs": [
        {
          "name": "stdout",
          "text": "GRAD_DEBT_MDN_SUPP    1718\ndtype: int64\n",
          "output_type": "stream"
        }
      ]
    },
    {
      "cell_type": "code",
      "source": "df_MO= df_clean[(df_clean['STABBR']== 'MO')]\nprint(df_MO)\n",
      "metadata": {
        "trusted": true
      },
      "execution_count": 67,
      "outputs": [
        {
          "name": "stdout",
          "text": "                                             INSTNM          CITY STABBR  \\\n1361            Concorde Career College-Kansas City   Kansas City     MO   \n2009                               Avila University   Kansas City     MO   \n2010             ITT Technical Institute-Earth City    Earth City     MO   \n2011                          Baptist Bible College   Springfield     MO   \n2012  House of Heavilin Beauty College-Blue Springs  Blue Springs     MO   \n...                                             ...           ...    ...   \n6408           Regency Beauty Institute-Springfield   Springfield     MO   \n6536                  Brown Mackie College-St Louis        Fenton     MO   \n6706      National American University-Lee's Summit  Lee's Summit     MO   \n6710        Chamberlain College of Nursing-Missouri     St. Louis     MO   \n6831                               Bryan University      Columbia     MO   \n\n        UGDS  UGDS_WHITE  UGDS_BLACK  UGDS_HISP  UGDS_ASIAN  UGDS_AIAN  \\\n1361   590.0      0.4203      0.4034     0.0949      0.0186     0.0051   \n2009  1321.0      0.6101      0.1893     0.0765      0.0167     0.0083   \n2010   517.0      0.4642      0.4313     0.0135      0.0155     0.0058   \n2011   317.0      0.8644      0.0347     0.0379      0.0126     0.0158   \n2012   102.0      0.8333      0.0588     0.0784      0.0294     0.0000   \n...      ...         ...         ...        ...         ...        ...   \n6408    58.0      0.4828      0.0345     0.0345      0.0000     0.0172   \n6536   504.0      0.5377      0.4048     0.0139      0.0079     0.0040   \n6706   309.0      0.5405      0.3786     0.0162      0.0000     0.0065   \n6710   508.0      0.7736      0.1417     0.0197      0.0177     0.0000   \n6831    97.0      0.5670      0.3299     0.0206      0.0000     0.0103   \n\n      UGDS_NHPI  UGDS_2MOR  UGDS_NRA  UGDS_UNKN  MD_EARN_WNE_P10  \\\n1361     0.0017     0.0339    0.0000     0.0220          22100.0   \n2009     0.0038     0.0288    0.0666     0.0000          41100.0   \n2010     0.0000     0.0290    0.0000     0.0406          38800.0   \n2011     0.0032     0.0284    0.0000     0.0032          29100.0   \n2012     0.0000     0.0000    0.0000     0.0000          11600.0   \n...         ...        ...       ...        ...              ...   \n6408     0.0000     0.1034    0.0000     0.3276          21500.0   \n6536     0.0040     0.0000    0.0000     0.0278          27400.0   \n6706     0.0000     0.0583    0.0000     0.0000          36100.0   \n6710     0.0020     0.0157    0.0020     0.0276          52600.0   \n6831     0.0000     0.0619    0.0000     0.0103          24900.0   \n\n      GRAD_DEBT_MDN_SUPP  \n1361              9500.0  \n2009             26625.0  \n2010             25827.5  \n2011             20662.5  \n2012              9088.5  \n...                  ...  \n6408             14144.0  \n6536             22141.5  \n6706             33523.0  \n6710             24581.0  \n6831             24056.0  \n\n[127 rows x 15 columns]\n",
          "output_type": "stream"
        }
      ]
    },
    {
      "cell_type": "code",
      "source": "#I'm looking at the Grad debt with just MO's information\ndf_MO['GRAD_DEBT_MDN_SUPP'].describe()",
      "metadata": {
        "trusted": true
      },
      "execution_count": 68,
      "outputs": [
        {
          "execution_count": 68,
          "output_type": "execute_result",
          "data": {
            "text/plain": "count      127.000000\nmean     17801.153543\nstd       6916.112094\nmin       5974.000000\n25%      10954.750000\n50%      19399.000000\n75%      22648.000000\nmax      33523.000000\nName: GRAD_DEBT_MDN_SUPP, dtype: float64"
          },
          "metadata": {}
        }
      ]
    },
    {
      "cell_type": "code",
      "source": "#Total number of undergraduates in the MO informational stats\ndf_MO['UGDS'].sum()",
      "metadata": {
        "trusted": true
      },
      "execution_count": 69,
      "outputs": [
        {
          "execution_count": 69,
          "output_type": "execute_result",
          "data": {
            "text/plain": "294777.0"
          },
          "metadata": {}
        }
      ]
    },
    {
      "cell_type": "code",
      "source": "#I'm looking at the undergraduate stats with just MO's information\ndf_MO['UGDS'].describe()",
      "metadata": {
        "trusted": true
      },
      "execution_count": 57,
      "outputs": [
        {
          "execution_count": 57,
          "output_type": "execute_result",
          "data": {
            "text/plain": "count      127.000000\nmean      2321.078740\nstd       4260.679323\nmin         15.000000\n25%        172.000000\n50%        514.000000\n75%       2114.000000\nmax      27276.000000\nName: UGDS, dtype: float64"
          },
          "metadata": {}
        }
      ]
    },
    {
      "cell_type": "code",
      "source": "#Total number of undergraduates indentify as black in MO stats\ndf_MO['UGDS_BLACK'].describe",
      "metadata": {
        "trusted": true
      },
      "execution_count": 70,
      "outputs": [
        {
          "execution_count": 70,
          "output_type": "execute_result",
          "data": {
            "text/plain": "<bound method NDFrame.describe of 1361    0.4034\n2009    0.1893\n2010    0.4313\n2011    0.0347\n2012    0.0588\n         ...  \n6408    0.0345\n6536    0.4048\n6706    0.3786\n6710    0.1417\n6831    0.3299\nName: UGDS_BLACK, Length: 127, dtype: float64>"
          },
          "metadata": {}
        }
      ]
    },
    {
      "cell_type": "code",
      "source": "#Total number of undergraduates indentify as hispanic in MO stats\ndf_MO['UGDS_HISP'].describe",
      "metadata": {
        "trusted": true
      },
      "execution_count": 71,
      "outputs": [
        {
          "execution_count": 71,
          "output_type": "execute_result",
          "data": {
            "text/plain": "<bound method NDFrame.describe of 1361    0.0949\n2009    0.0765\n2010    0.0135\n2011    0.0379\n2012    0.0784\n         ...  \n6408    0.0345\n6536    0.0139\n6706    0.0162\n6710    0.0197\n6831    0.0206\nName: UGDS_HISP, Length: 127, dtype: float64>"
          },
          "metadata": {}
        }
      ]
    },
    {
      "cell_type": "code",
      "source": "#Total number of undergraduates indentify as Asian in MO stats\ndf_MO['UGDS_ASIAN'].describe",
      "metadata": {
        "trusted": true
      },
      "execution_count": 72,
      "outputs": [
        {
          "execution_count": 72,
          "output_type": "execute_result",
          "data": {
            "text/plain": "<bound method NDFrame.describe of 1361    0.0186\n2009    0.0167\n2010    0.0155\n2011    0.0126\n2012    0.0294\n         ...  \n6408    0.0000\n6536    0.0079\n6706    0.0000\n6710    0.0177\n6831    0.0000\nName: UGDS_ASIAN, Length: 127, dtype: float64>"
          },
          "metadata": {}
        }
      ]
    },
    {
      "cell_type": "code",
      "source": "#Total number of undergraduates indentify as Amierican Indian and Alaskan Native in MO stats\ndf_MO['UGDS_AIAN'].describe",
      "metadata": {
        "trusted": true
      },
      "execution_count": 73,
      "outputs": [
        {
          "execution_count": 73,
          "output_type": "execute_result",
          "data": {
            "text/plain": "<bound method NDFrame.describe of 1361    0.0051\n2009    0.0083\n2010    0.0058\n2011    0.0158\n2012    0.0000\n         ...  \n6408    0.0172\n6536    0.0040\n6706    0.0065\n6710    0.0000\n6831    0.0103\nName: UGDS_AIAN, Length: 127, dtype: float64>"
          },
          "metadata": {}
        }
      ]
    },
    {
      "cell_type": "code",
      "source": "#Total number of undergraduates indentify as North Pacific Islander in MO stats\ndf_MO['UGDS_NHPI'].describe",
      "metadata": {
        "trusted": true
      },
      "execution_count": 74,
      "outputs": [
        {
          "execution_count": 74,
          "output_type": "execute_result",
          "data": {
            "text/plain": "<bound method NDFrame.describe of 1361    0.0017\n2009    0.0038\n2010    0.0000\n2011    0.0032\n2012    0.0000\n         ...  \n6408    0.0000\n6536    0.0040\n6706    0.0000\n6710    0.0020\n6831    0.0000\nName: UGDS_NHPI, Length: 127, dtype: float64>"
          },
          "metadata": {}
        }
      ]
    },
    {
      "cell_type": "markdown",
      "source": "## Unnecessary Data\n\nLook for the different types of unnecessary data in your dataset and address it as needed. Make sure to use code comments to illustrate your thought process.",
      "metadata": {
        "azdata_cell_guid": "6f5b8ee0-bab3-44bc-958a-67d1e4c0407f"
      }
    },
    {
      "cell_type": "markdown",
      "source": "## Inconsistent Data\n\nCheck for inconsistent data and address any that arises. As always, use code comments to illustrate your thought process.",
      "metadata": {
        "azdata_cell_guid": "53e0cf94-c68a-4fa0-9849-9505a66bcce6"
      }
    },
    {
      "cell_type": "code",
      "source": "#save cleaned dataset to a new csv\ndf_clean.to_csv(\"Scorecard-Elements1.csv\")",
      "metadata": {
        "trusted": true
      },
      "execution_count": 75,
      "outputs": []
    },
    {
      "cell_type": "markdown",
      "source": "## Summarize Your Results\n\nMake note of your answers to the following questions.\n\n1. Did you find all four types of dirty data in your dataset? Yes\n2. Did the process of cleaning your data give you new insights into your dataset? Yes, it gave me A LOT more insight. I ended up even deciding the 2nd dataframe wasn't giving any new information, so decided to only use the 1 for the final project. I narrowed it down to only 16 columns and 200 rows, since I will only be reviewing MO univeristies/colleges\n3. Is there anything you would like to make note of when it comes to manipulating the data and making visualizations? I'd like to make note of that NaN is in the chart 12 times for each race. And the Grad_debt has \"PrivacySuppressed\" instead of a value if the information isn't available.",
      "metadata": {
        "azdata_cell_guid": "dedc0bfe-17d0-40b2-914f-2ddb54f9ce0d"
      }
    }
  ]
}